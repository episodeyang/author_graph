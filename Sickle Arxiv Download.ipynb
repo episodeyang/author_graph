{
 "cells": [
  {
   "cell_type": "code",
   "execution_count": 1,
   "metadata": {
    "collapsed": true
   },
   "outputs": [],
   "source": [
    "from sickle import Sickle"
   ]
  },
  {
   "cell_type": "code",
   "execution_count": 2,
   "metadata": {
    "collapsed": true
   },
   "outputs": [],
   "source": [
    "sickle = Sickle('http://export.arxiv.org/oai2')"
   ]
  },
  {
   "cell_type": "code",
   "execution_count": 3,
   "metadata": {
    "collapsed": true
   },
   "outputs": [],
   "source": [
    "records = sickle.ListRecords(metadataPrefix='arXiv')"
   ]
  },
  {
   "cell_type": "code",
   "execution_count": 5,
   "metadata": {
    "collapsed": true
   },
   "outputs": [],
   "source": [
    "import pymongo\n",
    "from pymongo import MongoClient"
   ]
  },
  {
   "cell_type": "code",
   "execution_count": 6,
   "metadata": {
    "collapsed": false
   },
   "outputs": [],
   "source": [
    "client = MongoClient('localhost', 27017)\n",
    "\n",
    "db = client.arxiv_papers\n",
    "\n",
    "papers = db.papers\n",
    "authors = db.authors"
   ]
  },
  {
   "cell_type": "code",
   "execution_count": null,
   "metadata": {
    "collapsed": false
   },
   "outputs": [
    {
     "name": "stdout",
     "output_type": "stream",
     "text": [
      "1000, 2000, 3000, 4000, "
     ]
    }
   ],
   "source": [
    "count = 0\n",
    "for r in records:\n",
    "    count += 1\n",
    "    full_id = \"http://arxiv.org/abs/{id}\".format(id=r.metadata['id'][0])\n",
    "    try:\n",
    "        m = r.metadata\n",
    "        _id = papers.insert_one(dict(id=full_id, \n",
    "                                     title=m['title'][0], \n",
    "                                     summary=m['abstract'][0],\n",
    "                                     authors=m['keyname']\n",
    "                                    ))\n",
    "    except pymongo.errors.DuplicateKeyError:\n",
    "        pass\n",
    "    if count %1000 == 0:\n",
    "        print(count, end=', ')"
   ]
  },
  {
   "cell_type": "code",
   "execution_count": 8,
   "metadata": {
    "collapsed": false
   },
   "outputs": [
    {
     "data": {
      "text/plain": [
       "{'abstract': ['  A fully differential calculation in perturbative quantum chromodynamics is\\npresented for the production of massive photon pairs at hadron colliders. All\\nnext-to-leading order perturbative contributions from quark-antiquark,\\ngluon-(anti)quark, and gluon-gluon subprocesses are included, as well as\\nall-orders resummation of initial-state gluon radiation valid at\\nnext-to-next-to-leading logarithmic accuracy. The region of phase space is\\nspecified in which the calculation is most reliable. Good agreement is\\ndemonstrated with data from the Fermilab Tevatron, and predictions are made for\\nmore detailed tests with CDF and DO data. Predictions are shown for\\ndistributions of diphoton pairs produced at the energy of the Large Hadron\\nCollider (LHC). Distributions of the diphoton pairs from the decay of a Higgs\\nboson are contrasted with those produced from QCD processes at the LHC, showing\\nthat enhanced sensitivity to the signal can be obtained with judicious\\nselection of events.\\n'],\n",
       " 'author': [None, None, None, None],\n",
       " 'authors': [None],\n",
       " 'categories': ['hep-ph'],\n",
       " 'comments': ['37 pages, 15 figures; published version'],\n",
       " 'created': ['2007-04-02'],\n",
       " 'doi': ['10.1103/PhysRevD.76.013009'],\n",
       " 'forenames': ['C.', 'E. L.', 'P. M.', 'C. -P.'],\n",
       " 'id': ['0704.0001'],\n",
       " 'journal-ref': ['Phys.Rev.D76:013009,2007'],\n",
       " 'keyname': ['Balázs', 'Berger', 'Nadolsky', 'Yuan'],\n",
       " 'report-no': ['ANL-HEP-PR-07-12'],\n",
       " 'title': ['Calculation of prompt diphoton production cross sections at Tevatron and\\n  LHC energies'],\n",
       " 'updated': ['2007-07-24']}"
      ]
     },
     "execution_count": 8,
     "metadata": {},
     "output_type": "execute_result"
    }
   ],
   "source": [
    "r.metadata"
   ]
  },
  {
   "cell_type": "code",
   "execution_count": 10,
   "metadata": {
    "collapsed": true
   },
   "outputs": [],
   "source": [
    "result = papers.delete_many({\"id\": {\"$regex\": \"\\'(.*\\')\"}})"
   ]
  }
 ],
 "metadata": {
  "anaconda-cloud": {},
  "kernelspec": {
   "display_name": "deep-learning-python3",
   "language": "python",
   "name": "deep-learning"
  },
  "language_info": {
   "codemirror_mode": {
    "name": "ipython",
    "version": 3
   },
   "file_extension": ".py",
   "mimetype": "text/x-python",
   "name": "python",
   "nbconvert_exporter": "python",
   "pygments_lexer": "ipython3",
   "version": "3.6.0"
  }
 },
 "nbformat": 4,
 "nbformat_minor": 1
}
