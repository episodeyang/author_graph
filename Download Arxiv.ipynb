{
 "cells": [
  {
   "cell_type": "code",
   "execution_count": 26,
   "metadata": {
    "collapsed": true
   },
   "outputs": [],
   "source": [
    "import pymongo\n",
    "from arxiv_api import arxiv_api\n",
    "from pymongo import MongoClient\n",
    "import time"
   ]
  },
  {
   "cell_type": "code",
   "execution_count": 27,
   "metadata": {
    "collapsed": false
   },
   "outputs": [],
   "source": [
    "def crawl_category(category):\n",
    "    print('\\n\\nCrawling Paper Metadata for Category: {category}\\n_____'.format(category=category))\n",
    "    \n",
    "    client = MongoClient('localhost', 27017)\n",
    "\n",
    "    db = client.arxiv_papers\n",
    "\n",
    "    papers = db.papers\n",
    "    authors = db.authors\n",
    "    \n",
    "    \n",
    "    MAX_RESULTS = 100\n",
    "    results, start = True, 0\n",
    "    while results:\n",
    "        results = arxiv_api.query(\"cat:\" + category, prune=True, start=start, max_results=MAX_RESULTS)\n",
    "        if not results:\n",
    "            time.sleep(1.0)\n",
    "            results = arxiv_api.query(\"cat:\" + category, prune=True, start=start, max_results=MAX_RESULTS)\n",
    "            if not results:\n",
    "                print('rate limiting?')\n",
    "                break\n",
    "        # use out-of-order insertion to avoid error.\n",
    "        for r in results:\n",
    "            if r['title'] == 'Coupling an ensemble of electrons on superfluid helium to a superconducting circuit':\n",
    "                print(r)\n",
    "            try:\n",
    "                write_response = papers.insert_one(r)\n",
    "            except pymongo.errors.DuplicateKeyError:\n",
    "                pass\n",
    "        start += len(results)\n",
    "        print(start, end=', ')"
   ]
  },
  {
   "cell_type": "code",
   "execution_count": null,
   "metadata": {
    "collapsed": true
   },
   "outputs": [],
   "source": [
    "from arxiv_api.arxiv_api import CATEGORIES"
   ]
  },
  {
   "cell_type": "code",
   "execution_count": null,
   "metadata": {
    "collapsed": true
   },
   "outputs": [],
   "source": [
    "cs_categories = [\"cs.AR\", \"cs.AI\", \"cs.CL\", \"cs.CC\", \"cs.CE\", \"cs.CG\", \"cs.GT\", \"cs.CV\", \"cs.CY\", \"cs.CR\",\n",
    "              \"cs.DS\", \"cs.DB\", \"cs.DL\", \"cs.DM\", \"cs.DC\", \"cs.GL\", \"cs.GR\", \"cs.HC\", \"cs.IR\", \"cs.IT\", \"cs.LG\",\n",
    "              \"cs.LO\", \"cs.MS\", \"cs.MA\", \"cs.MM\", \"cs.NI\", \"cs.NE\", \"cs.NA\", \"cs.OS\", \"cs.OH\", \"cs.PF\", \"cs.PL\",\n",
    "              \"cs.RO\", \"cs.SE\", \"cs.SD\", \"cs.SC\"]"
   ]
  },
  {
   "cell_type": "code",
   "execution_count": null,
   "metadata": {
    "collapsed": true
   },
   "outputs": [],
   "source": [
    "from multiprocessing import Pool, TimeoutError"
   ]
  },
  {
   "cell_type": "code",
   "execution_count": null,
   "metadata": {
    "collapsed": false,
    "scrolled": false
   },
   "outputs": [],
   "source": [
    "pool = Pool(processes = 8)\n",
    "pool.map(crawl_category, cs_categories)# CATEGORIES)"
   ]
  },
  {
   "cell_type": "code",
   "execution_count": null,
   "metadata": {
    "collapsed": false,
    "scrolled": true
   },
   "outputs": [],
   "source": [
    "pool = Pool(processes = 8)\n",
    "pool.map(crawl_category, [c for c in CATEGORIES if c not in cs_categories])# CATEGORIES)"
   ]
  },
  {
   "cell_type": "code",
   "execution_count": 29,
   "metadata": {
    "collapsed": false
   },
   "outputs": [
    {
     "name": "stdout",
     "output_type": "stream",
     "text": [
      "\n",
      "\n",
      "Crawling Paper Metadata for Category: cond-mat.mes-hall\n",
      "_____\n",
      "100, 200, 300, 400, 500, 600, 700, 800, 900, 1000, 1100, 1200, 1300, 1400, 1500, 1600, 1700, 1800, 1900, 2000, 2100, 2200, 2300, 2400, 2500, 2600, 2700, 2800, 2900, 3000, 3100, 3200, 3300, 3400, 3500, 3600, 3700, 3800, 3900, 4000, 4100, 4200, 4300, 4400, 4500, 4600, 4700, 4800, 4900, 5000, 5100, 5200, 5300, 5400, 5500, 5600, 5700, 5800, 5900, 6000, 6100, 6200, 6300, 6400, 6500, 6600, 6700, 6800, 6900, 7000, 7100, 7200, 7300, 7400, 7500, 7600, 7700, 7800, 7900, 8000, 8100, 8200, 8300, 8400, 8500, 8600, 8700, 8800, 8900, 9000, 9100, 9200, 9300, 9400, 9500, 9600, 9700, 9800, 9900, 10000, 10100, 10200, 10300, 10400, 10500, 10600, 10700, 10800, 10900, 11000, 11100, 11200, 11300, 11400, 11500, 11600, 11700, 11800, 11900, 12000, 12100, 12200, 12300, 12400, 12500, 12600, 12700, 12800, 12900, 13000, 13100, 13200, 13300, 13400, 13500, 13600, 13700, 13800, 13900, 14000, 14100, 14200, 14300, 14400, 14500, 14600, 14700, 14800, 14900, 15000, 15100, 15200, 15300, 15400, 15500, 15600, 15700, 15800, 15900, 16000, 16100, 16200, 16300, 16400, 16500, 16600, 16700, 16800, 16900, 17000, 17100, 17200, 17300, 17400, 17500, 17600, 17700, 17800, 17900, 18000, 18100, 18200, 18300, 18400, 18500, 18600, 18700, 18800, 18900, 19000, 19100, 19200, 19300, 19400, 19500, 19600, 19700, 19800, 19900, 20000, 20100, 20200, 20300, 20400, 20500, 20600, 20700, 20800, 20900, 21000, 21100, 21200, 21300, 21400, 21500, 21600, 21700, 21800, 21900, 22000, 22100, 22200, 22300, 22400, 22500, 22600, 22700, 22800, 22900, 23000, 23100, 23200, 23300, 23400, 23500, 23600, 23700, 23800, 23900, 24000, 24100, 24200, 24300, 24400, 24500, 24600, 24700, 24800, 24900, 25000, 25100, 25200, 25300, 25400, 25500, 25600, 25700, 25800, 25900, 26000, 26100, 26200, 26300, 26400, 26500, 26600, 26700, 26800, 26900, 27000, 27100, 27200, 27300, 27400, 27500, 27600, 27700, 27800, rate limiting?\n"
     ]
    }
   ],
   "source": [
    "crawl_category('cond-mat.mes-hall')"
   ]
  },
  {
   "cell_type": "code",
   "execution_count": null,
   "metadata": {
    "collapsed": true
   },
   "outputs": [],
   "source": []
  }
 ],
 "metadata": {
  "anaconda-cloud": {},
  "kernelspec": {
   "display_name": "deep-learning-python3",
   "language": "python",
   "name": "deep-learning"
  },
  "language_info": {
   "codemirror_mode": {
    "name": "ipython",
    "version": 3
   },
   "file_extension": ".py",
   "mimetype": "text/x-python",
   "name": "python",
   "nbconvert_exporter": "python",
   "pygments_lexer": "ipython3",
   "version": "3.6.0"
  }
 },
 "nbformat": 4,
 "nbformat_minor": 1
}
