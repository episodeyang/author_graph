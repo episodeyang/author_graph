{
 "cells": [
  {
   "cell_type": "code",
   "execution_count": 2,
   "metadata": {
    "collapsed": true
   },
   "outputs": [],
   "source": [
    "import pymongo\n",
    "from arxiv_api import arxiv_api\n",
    "from pymongo import MongoClient\n",
    "\n",
    "client = MongoClient('localhost', 27017)\n",
    "db = client.arxiv_papers\n",
    "\n",
    "papers = db.papers\n",
    "authors = db.authors"
   ]
  },
  {
   "cell_type": "code",
   "execution_count": 3,
   "metadata": {
    "collapsed": true
   },
   "outputs": [],
   "source": [
    "import time"
   ]
  },
  {
   "cell_type": "code",
   "execution_count": 15,
   "metadata": {
    "collapsed": false
   },
   "outputs": [
    {
     "name": "stdout",
     "output_type": "stream",
     "text": [
      "{'_id': ObjectId('591d038babac9b5de987c6e0'), 'id': 'http://arxiv.org/abs/0705.0998', 'title': 'The alternating sign matrix polytope', 'summary': '  We define the alternating sign matrix polytope as the convex hull of nxn\\nalternating sign matrices and prove its equivalent description in terms of\\ninequalities. This is analogous to the well known result of Birkhoff and von\\nNeumann that the convex hull of the permutation matrices equals the set of all\\nnonnegative doubly stochastic matrices. We count the facets and vertices of the\\nalternating sign matrix polytope and describe its projection to the\\npermutohedron as well as give a complete characterization of its face lattice\\nin terms of modified square ice configurations. Furthermore we prove that the\\ndimension of any face can be easily determined from this characterization.\\n', 'authors': ['Striker']}\n"
     ]
    }
   ],
   "source": [
    "for p in incomplete_papers():\n",
    "    print(p)\n",
    "    break"
   ]
  },
  {
   "cell_type": "code",
   "execution_count": 4,
   "metadata": {
    "collapsed": true
   },
   "outputs": [],
   "source": [
    "def incomplete_papers():\n",
    "    for p in papers.find({ \"title_detail\" : { \"$exists\" : False } }):\n",
    "        if 'id' not in p:\n",
    "            papers.delete_one({'_id': p['_id']})\n",
    "        else:\n",
    "            yield p"
   ]
  },
  {
   "cell_type": "code",
   "execution_count": 5,
   "metadata": {
    "collapsed": true
   },
   "outputs": [],
   "source": [
    "def get_batch(gen, n):\n",
    "    while True:\n",
    "        yield [gen.__next__() for i in range(n)]"
   ]
  },
  {
   "cell_type": "code",
   "execution_count": 29,
   "metadata": {
    "collapsed": false
   },
   "outputs": [
    {
     "name": "stdout",
     "output_type": "stream",
     "text": [
      "nucl-th/9411004v1\n",
      "1\n"
     ]
    }
   ],
   "source": [
    "import re\n",
    "id_mask = re.compile(\"^(.*)/abs/(.*)v?([0-9]*)$\")\n",
    "version_mask = re.compile(\"^([a-z\\-]+/)?[0-9\\.]+v([0-9]+)$\")\n",
    "\n",
    "\n",
    "match = id_mask.match(\"http://arxiv.org/abs/nucl-th/9411004v1\")\n",
    "id_string = match.group(2)\n",
    "print(id_string)\n",
    "\n",
    "match = version_mask.match(id_string)\n",
    "print(match.group(2))"
   ]
  },
  {
   "cell_type": "code",
   "execution_count": 48,
   "metadata": {
    "collapsed": false
   },
   "outputs": [],
   "source": [
    "def both_versions(batch):\n",
    "    for p in batch:\n",
    "        if 'id' in p:\n",
    "            doc_id = id_mask.match(p['id']).group(2)\n",
    "            try:\n",
    "                version = int(version_mask.match(doc_id).group(2))\n",
    "                yield from ['v'.join(doc_id.split('v')[:-1] + [str(v)]) for v in range(1, version + 1)]\n",
    "            except Exception as e:\n",
    "                yield doc_id"
   ]
  },
  {
   "cell_type": "code",
   "execution_count": 53,
   "metadata": {
    "collapsed": false
   },
   "outputs": [
    {
     "name": "stderr",
     "output_type": "stream",
     "text": [
      "/home/ge/anaconda3/envs/deep-learning/lib/python3.6/site-packages/ipykernel/__main__.py:2: DeprecationWarning: generator 'get_batch' raised StopIteration\n",
      "  from ipykernel import kernelapp as app\n"
     ]
    }
   ],
   "source": [
    "count = 0\n",
    "for batch in get_batch(incomplete_papers(), 100):\n",
    "    try: \n",
    "        id_list = [id_string for id_string in both_versions(batch)]\n",
    "        results = arxiv_api.query(id_list=id_list, start=None, max_results=1000)\n",
    "        for r in results:\n",
    "            del r['title_detail']['base']\n",
    "            del r['summary_detail']['base']\n",
    "            papers.update_one({\"id\":r['id']}, {\"$set\": r}, upsert=True)\n",
    "            count += 1\n",
    "        if count % 1000 == 0:\n",
    "            print(count, end=', ')\n",
    "    except Exception as e:\n",
    "        print(id_list, e)\n",
    "    for p in batch:\n",
    "        papers.delete_one({\"_id\": p['_id']})"
   ]
  },
  {
   "cell_type": "code",
   "execution_count": 22,
   "metadata": {
    "collapsed": false
   },
   "outputs": [],
   "source": [
    "%reload_ext arxiv_api"
   ]
  },
  {
   "cell_type": "code",
   "execution_count": 7,
   "metadata": {
    "collapsed": false
   },
   "outputs": [],
   "source": [
    "results = arxiv_api.query(id_list=['0705.0998', '0705.0999'])"
   ]
  },
  {
   "cell_type": "code",
   "execution_count": 10,
   "metadata": {
    "collapsed": false
   },
   "outputs": [
    {
     "data": {
      "text/plain": [
       "{'affiliation': 'School of Mathematics and Statistics, University of St Andrews, UK',\n",
       " 'arxiv_comment': '21 pages, 16 figures Accepted for ApJ',\n",
       " 'arxiv_primary_category': {'scheme': 'http://arxiv.org/schemas/atom',\n",
       "  'term': 'astro-ph'},\n",
       " 'arxiv_url': 'http://arxiv.org/abs/0705.1097v1',\n",
       " 'author': 'A. W. Hood',\n",
       " 'author_detail': {'name': 'A. W. Hood'},\n",
       " 'authors': ['K. Galsgaard',\n",
       "  'V. Archontis',\n",
       "  'F. Moreno-Insertis',\n",
       "  'A. W. Hood'],\n",
       " 'doi': '10.1086/519756',\n",
       " 'guidislink': True,\n",
       " 'id': 'http://arxiv.org/abs/0705.1097v1',\n",
       " 'journal_reference': 'Astrophys.J.666:516-531,2007',\n",
       " 'links': [{'href': 'http://dx.doi.org/10.1086/519756',\n",
       "   'rel': 'related',\n",
       "   'title': 'doi',\n",
       "   'type': 'text/html'},\n",
       "  {'href': 'http://arxiv.org/abs/0705.1097v1',\n",
       "   'rel': 'alternate',\n",
       "   'type': 'text/html'},\n",
       "  {'href': 'http://arxiv.org/pdf/0705.1097v1',\n",
       "   'rel': 'related',\n",
       "   'title': 'pdf',\n",
       "   'type': 'application/pdf'}],\n",
       " 'pdf_url': 'http://arxiv.org/pdf/0705.1097v1',\n",
       " 'published': '2007-05-08T13:53:57Z',\n",
       " 'published_parsed': time.struct_time(tm_year=2007, tm_mon=5, tm_mday=8, tm_hour=13, tm_min=53, tm_sec=57, tm_wday=1, tm_yday=128, tm_isdst=0),\n",
       " 'summary': 'The emergence of magnetic flux from the convection zone into the corona is an\\nimportant process for the dynamical evolution of the coronal magnetic field. In\\nthis paper we extend our previous numerical investigations, by looking at the\\nprocess of flux interaction as an initially twisted flux tube emerges into a\\nplane parallel, coronal magnetic field. Significant differences are found in\\nthe dynamical appearance and evolution of the emergence process depending on\\nthe relative orientation between the rising flux system and any preexisting\\ncoronal field. When the flux systems are nearly anti-parallel, the experiments\\nshow substantial reconnection and demonstrate clear signatures of a high\\ntemperature plasma located in the high velocity outflow regions extending from\\nthe reconnection region. However, the cases that have a more parallel\\norientation of the flux systems show very limited reconnection and none of the\\nassociated features. Despite the very different amount of reconnection between\\nthe two flux systems, it is found that the emerging flux that is still\\nconnected to the original tube, reaches the same height as a function of time.\\nAs a compensation for the loss of tube flux, a clear difference is found in the\\nextent of the emerging loop in the direction perpendicular to the main axis of\\nthe initial flux tube. Increasing amounts of magnetic reconnection decrease the\\nvolume, which confines the remaining tube flux.',\n",
       " 'summary_detail': {'base': 'http://export.arxiv.org/api/query?id_list=0705.0998,0705.0999,0705.1000,0705.1001,0705.1002,0705.1003,0705.1004,0705.1005,0705.1006,0705.1007,0705.1008,0705.1009,0705.1010,0705.1011,0705.1012,0705.1013,0705.1014,0705.1015,0705.1016,0705.1017,0705.1018,0705.1019,0705.1020,0705.1021,0705.1022,0705.1023,0705.1024,0705.1025,0705.1026,0705.1027,0705.1028,0705.1029,0705.1030,0705.1031,0705.1032,0705.1033,0705.1034,0705.1035,0705.1036,0705.1037,0705.1038,0705.1039,0705.1040,0705.1041,0705.1042,0705.1043,0705.1044,0705.1045,0705.1046,0705.1047,0705.1048,0705.1049,0705.1050,0705.1051,0705.1052,0705.1053,0705.1054,0705.1055,0705.1056,0705.1057,0705.1058,0705.1059,0705.1060,0705.1061,0705.1062,0705.1063,0705.1064,0705.1065,0705.1066,0705.1067,0705.1068,0705.1069,0705.1070,0705.1071,0705.1072,0705.1073,0705.1074,0705.1075,0705.1076,0705.1077,0705.1078,0705.1079,0705.1080,0705.1081,0705.1082,0705.1083,0705.1084,0705.1085,0705.1086,0705.1087,0705.1088,0705.1089,0705.1090,0705.1091,0705.1092,0705.1093,0705.1094,0705.1095,0705.1096,0705.1097&amp;max_results=100',\n",
       "  'language': None,\n",
       "  'type': 'text/plain',\n",
       "  'value': 'The emergence of magnetic flux from the convection zone into the corona is an\\nimportant process for the dynamical evolution of the coronal magnetic field. In\\nthis paper we extend our previous numerical investigations, by looking at the\\nprocess of flux interaction as an initially twisted flux tube emerges into a\\nplane parallel, coronal magnetic field. Significant differences are found in\\nthe dynamical appearance and evolution of the emergence process depending on\\nthe relative orientation between the rising flux system and any preexisting\\ncoronal field. When the flux systems are nearly anti-parallel, the experiments\\nshow substantial reconnection and demonstrate clear signatures of a high\\ntemperature plasma located in the high velocity outflow regions extending from\\nthe reconnection region. However, the cases that have a more parallel\\norientation of the flux systems show very limited reconnection and none of the\\nassociated features. Despite the very different amount of reconnection between\\nthe two flux systems, it is found that the emerging flux that is still\\nconnected to the original tube, reaches the same height as a function of time.\\nAs a compensation for the loss of tube flux, a clear difference is found in the\\nextent of the emerging loop in the direction perpendicular to the main axis of\\nthe initial flux tube. Increasing amounts of magnetic reconnection decrease the\\nvolume, which confines the remaining tube flux.'},\n",
       " 'tags': [{'label': None,\n",
       "   'scheme': 'http://arxiv.org/schemas/atom',\n",
       "   'term': 'astro-ph'}],\n",
       " 'title': 'The effect of the relative orientation between the coronal field and new\\n  emerging flux: I Global Properties',\n",
       " 'title_detail': {'base': 'http://export.arxiv.org/api/query?id_list=0705.0998,0705.0999,0705.1000,0705.1001,0705.1002,0705.1003,0705.1004,0705.1005,0705.1006,0705.1007,0705.1008,0705.1009,0705.1010,0705.1011,0705.1012,0705.1013,0705.1014,0705.1015,0705.1016,0705.1017,0705.1018,0705.1019,0705.1020,0705.1021,0705.1022,0705.1023,0705.1024,0705.1025,0705.1026,0705.1027,0705.1028,0705.1029,0705.1030,0705.1031,0705.1032,0705.1033,0705.1034,0705.1035,0705.1036,0705.1037,0705.1038,0705.1039,0705.1040,0705.1041,0705.1042,0705.1043,0705.1044,0705.1045,0705.1046,0705.1047,0705.1048,0705.1049,0705.1050,0705.1051,0705.1052,0705.1053,0705.1054,0705.1055,0705.1056,0705.1057,0705.1058,0705.1059,0705.1060,0705.1061,0705.1062,0705.1063,0705.1064,0705.1065,0705.1066,0705.1067,0705.1068,0705.1069,0705.1070,0705.1071,0705.1072,0705.1073,0705.1074,0705.1075,0705.1076,0705.1077,0705.1078,0705.1079,0705.1080,0705.1081,0705.1082,0705.1083,0705.1084,0705.1085,0705.1086,0705.1087,0705.1088,0705.1089,0705.1090,0705.1091,0705.1092,0705.1093,0705.1094,0705.1095,0705.1096,0705.1097&amp;max_results=100',\n",
       "  'language': None,\n",
       "  'type': 'text/plain',\n",
       "  'value': 'The effect of the relative orientation between the coronal field and new\\n  emerging flux: I Global Properties'},\n",
       " 'updated': '2007-05-08T13:53:57Z',\n",
       " 'updated_parsed': time.struct_time(tm_year=2007, tm_mon=5, tm_mday=8, tm_hour=13, tm_min=53, tm_sec=57, tm_wday=1, tm_yday=128, tm_isdst=0)}"
      ]
     },
     "execution_count": 10,
     "metadata": {},
     "output_type": "execute_result"
    }
   ],
   "source": []
  },
  {
   "cell_type": "code",
   "execution_count": null,
   "metadata": {
    "collapsed": true
   },
   "outputs": [],
   "source": []
  }
 ],
 "metadata": {
  "anaconda-cloud": {},
  "kernelspec": {
   "display_name": "deep-learning-python3",
   "language": "python",
   "name": "deep-learning"
  },
  "language_info": {
   "codemirror_mode": {
    "name": "ipython",
    "version": 3
   },
   "file_extension": ".py",
   "mimetype": "text/x-python",
   "name": "python",
   "nbconvert_exporter": "python",
   "pygments_lexer": "ipython3",
   "version": "3.6.0"
  }
 },
 "nbformat": 4,
 "nbformat_minor": 1
}
